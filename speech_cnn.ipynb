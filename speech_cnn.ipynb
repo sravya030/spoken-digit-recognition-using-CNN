{
 "cells": [
  {
   "cell_type": "code",
   "execution_count": 1,
   "id": "805f5809",
   "metadata": {},
   "outputs": [
    {
     "name": "stderr",
     "output_type": "stream",
     "text": [
      "C:\\Users\\santh\\anaconda3\\lib\\site-packages\\paramiko\\transport.py:219: CryptographyDeprecationWarning: Blowfish has been deprecated\n",
      "  \"class\": algorithms.Blowfish,\n"
     ]
    }
   ],
   "source": [
    "import os\n",
    "from os import listdir\n",
    "from os.path import isfile, join\n",
    "from matplotlib import pyplot as plt\n",
    "import scipy.io.wavfile as wav\n",
    "import numpy as np\n",
    "from keras.preprocessing import image\n",
    "from keras.utils.np_utils import to_categorical\n",
    "\n",
    "import keras\n",
    "import IPython.display as ipd\n",
    "import librosa\n",
    "import librosa.display\n",
    "import pandas as pd"
   ]
  },
  {
   "cell_type": "code",
   "execution_count": 21,
   "id": "9bec7528",
   "metadata": {},
   "outputs": [],
   "source": [
    "filename = 'recordings/0_jackson_2.wav'"
   ]
  },
  {
   "cell_type": "code",
   "execution_count": 24,
   "id": "e4f2bf42",
   "metadata": {},
   "outputs": [
    {
     "data": {
      "text/html": [
       "\n",
       "                <audio  controls=\"controls\" >\n",
       "                    <source src=\"data:audio/wav;base64,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\" type=\"audio/wav\" />\n",
       "                    Your browser does not support the audio element.\n",
       "                </audio>\n",
       "              "
      ],
      "text/plain": [
       "<IPython.lib.display.Audio object>"
      ]
     },
     "execution_count": 24,
     "metadata": {},
     "output_type": "execute_result"
    }
   ],
   "source": [
    "#plt.figure(figsize=(14,5))\n",
    "data,sample_rate = librosa.load(filename)\n",
    "#librosa.display.waveshow(data,sr=sample_rate)\n",
    "ipd.Audio(filename)"
   ]
  },
  {
   "cell_type": "code",
   "execution_count": 4,
   "id": "51ec7960",
   "metadata": {},
   "outputs": [
    {
     "data": {
      "text/plain": [
       "22050"
      ]
     },
     "execution_count": 4,
     "metadata": {},
     "output_type": "execute_result"
    }
   ],
   "source": [
    "sample_rate"
   ]
  },
  {
   "cell_type": "code",
   "execution_count": 5,
   "id": "6af7c922",
   "metadata": {},
   "outputs": [],
   "source": [
    "import os\n",
    "import numpy as np\n",
    "import matplotlib.pyplot as plt\n",
    "from keras.preprocessing import image\n",
    "from keras.utils.np_utils import to_categorical\n",
    "from tensorflow.keras.utils import load_img, img_to_array"
   ]
  },
  {
   "cell_type": "code",
   "execution_count": 6,
   "id": "7e6ba290",
   "metadata": {},
   "outputs": [],
   "source": [
    "imagesDir = \"resizeimage/\"\n",
    "trainset = [] # Creating two sets (train and test) \n",
    "testset = []\n",
    "for file in os.listdir(imagesDir):\n",
    "    \n",
    "    label = file.split('_')[0]\n",
    "    sample_number = file.split('_')[2]\n",
    "    img = load_img(imagesDir+file)\n",
    "    if sample_number in ['0.jpg','1.jpg','2.jpg','3.jpg','4.jpg']:\n",
    "        testset.append([img_to_array(img), label])\n",
    "    else:\n",
    "        trainset.append([img_to_array(img), label])"
   ]
  },
  {
   "cell_type": "code",
   "execution_count": 7,
   "id": "7b6430dd",
   "metadata": {},
   "outputs": [
    {
     "data": {
      "text/plain": [
       "1500"
      ]
     },
     "execution_count": 7,
     "metadata": {},
     "output_type": "execute_result"
    }
   ],
   "source": [
    "len(os.listdir(imagesDir))"
   ]
  },
  {
   "cell_type": "code",
   "execution_count": 8,
   "id": "22890168",
   "metadata": {},
   "outputs": [],
   "source": [
    "np.random.shuffle(trainset)\n",
    "np.random.shuffle(testset)"
   ]
  },
  {
   "cell_type": "code",
   "execution_count": 9,
   "id": "39d908b9",
   "metadata": {},
   "outputs": [],
   "source": [
    "# Get only images in the train list not the Labels\n",
    "X_train = [item[0] for item in trainset]\n",
    "# Get only Labels in the train list not the images\n",
    "y_train = [item[1] for item in trainset]\n",
    "# Get only images in the test list not the Labels\n",
    "X_test = [item[0] for item in testset]\n",
    "# Get only Labels in the test list not the images\n",
    "y_test = [item[1] for item in testset]"
   ]
  },
  {
   "cell_type": "code",
   "execution_count": 11,
   "id": "a1afce5e",
   "metadata": {},
   "outputs": [
    {
     "data": {
      "text/plain": [
       "(1350, 62, 62, 3)"
      ]
     },
     "execution_count": 11,
     "metadata": {},
     "output_type": "execute_result"
    }
   ],
   "source": [
    "X_train.shape"
   ]
  },
  {
   "cell_type": "code",
   "execution_count": 12,
   "id": "036c06e0",
   "metadata": {},
   "outputs": [
    {
     "data": {
      "text/plain": [
       "(1350,)"
      ]
     },
     "execution_count": 12,
     "metadata": {},
     "output_type": "execute_result"
    }
   ],
   "source": [
    "y_train.shape"
   ]
  },
  {
   "cell_type": "code",
   "execution_count": 13,
   "id": "1704bd7e",
   "metadata": {},
   "outputs": [
    {
     "data": {
      "text/plain": [
       "(150, 62, 62, 3)"
      ]
     },
     "execution_count": 13,
     "metadata": {},
     "output_type": "execute_result"
    }
   ],
   "source": [
    "X_test.shape"
   ]
  },
  {
   "cell_type": "code",
   "execution_count": 10,
   "id": "fa0d7e9c",
   "metadata": {},
   "outputs": [],
   "source": [
    "# Convert list to numpy array in order to define input shape\n",
    "X_train = np.asanyarray(X_train)\n",
    "y_train = np.asanyarray(y_train)\n",
    "X_test = np.asanyarray(X_test)\n",
    "y_test = np.asanyarray(y_test)"
   ]
  },
  {
   "cell_type": "code",
   "execution_count": 14,
   "id": "2bbcd020",
   "metadata": {},
   "outputs": [],
   "source": [
    "# convert to one hot representation\n",
    "y_train = to_categorical(y_train)\n",
    "y_test = to_categorical(y_test)\n",
    "\n",
    "#Normalize the images\n",
    "X_train /= 255\n",
    "X_test /= 255"
   ]
  },
  {
   "cell_type": "code",
   "execution_count": 15,
   "id": "0648a44b",
   "metadata": {},
   "outputs": [],
   "source": [
    "from keras.models import Sequential \n",
    "from keras import optimizers\n",
    "from keras.layers import Dense, Activation, Flatten, Conv2D, MaxPooling2D, Dropout, BatchNormalization\n",
    "from keras import models\n",
    "import tensorflow as tf\n",
    "from sklearn.metrics import confusion_matrix,classification_report\n",
    "import test"
   ]
  },
  {
   "cell_type": "code",
   "execution_count": 16,
   "id": "4a173637",
   "metadata": {},
   "outputs": [],
   "source": [
    "data_shape = (X_train.shape[1], X_train.shape[2], X_train.shape[3])\n",
    "def cnn():\n",
    "    \n",
    "    model = Sequential()\n",
    "    model.add(Conv2D(32, kernel_size=(2, 2), activation='relu', input_shape=data_shape))\n",
    "    model.add(BatchNormalization())\n",
    "    model.add(Conv2D(48, kernel_size=(2, 2), activation='relu'))\n",
    "    model.add(BatchNormalization())\n",
    "    model.add(Conv2D(120, kernel_size=(2, 2), activation='relu'))\n",
    "    model.add(BatchNormalization())\n",
    "    model.add(MaxPooling2D(pool_size=(2, 2)))\n",
    "    model.add(Dropout(0.25))\n",
    "    model.add(Flatten())\n",
    "    model.add(Dense(128, activation='relu'))\n",
    "    model.add(BatchNormalization())\n",
    "    model.add(Dropout(0.25))\n",
    "    model.add(Dense(64, activation='relu'))\n",
    "    model.add(BatchNormalization())\n",
    "    model.add(Dropout(0.4))\n",
    "    model.add(Dense(10, activation='softmax'))\n",
    "\n",
    "    model.compile(loss = 'categorical_crossentropy', optimizer='Adadelta', metrics=['accuracy'])\n",
    "    return model"
   ]
  },
  {
   "cell_type": "code",
   "execution_count": 17,
   "id": "d6f745d4",
   "metadata": {},
   "outputs": [
    {
     "name": "stdout",
     "output_type": "stream",
     "text": [
      "Model: \"sequential\"\n",
      "_________________________________________________________________\n",
      " Layer (type)                Output Shape              Param #   \n",
      "=================================================================\n",
      " conv2d (Conv2D)             (None, 61, 61, 32)        416       \n",
      "                                                                 \n",
      " batch_normalization (BatchN  (None, 61, 61, 32)       128       \n",
      " ormalization)                                                   \n",
      "                                                                 \n",
      " conv2d_1 (Conv2D)           (None, 60, 60, 48)        6192      \n",
      "                                                                 \n",
      " batch_normalization_1 (Batc  (None, 60, 60, 48)       192       \n",
      " hNormalization)                                                 \n",
      "                                                                 \n",
      " conv2d_2 (Conv2D)           (None, 59, 59, 120)       23160     \n",
      "                                                                 \n",
      " batch_normalization_2 (Batc  (None, 59, 59, 120)      480       \n",
      " hNormalization)                                                 \n",
      "                                                                 \n",
      " max_pooling2d (MaxPooling2D  (None, 29, 29, 120)      0         \n",
      " )                                                               \n",
      "                                                                 \n",
      " dropout (Dropout)           (None, 29, 29, 120)       0         \n",
      "                                                                 \n",
      " flatten (Flatten)           (None, 100920)            0         \n",
      "                                                                 \n",
      " dense (Dense)               (None, 128)               12917888  \n",
      "                                                                 \n",
      " batch_normalization_3 (Batc  (None, 128)              512       \n",
      " hNormalization)                                                 \n",
      "                                                                 \n",
      " dropout_1 (Dropout)         (None, 128)               0         \n",
      "                                                                 \n",
      " dense_1 (Dense)             (None, 64)                8256      \n",
      "                                                                 \n",
      " batch_normalization_4 (Batc  (None, 64)               256       \n",
      " hNormalization)                                                 \n",
      "                                                                 \n",
      " dropout_2 (Dropout)         (None, 64)                0         \n",
      "                                                                 \n",
      " dense_2 (Dense)             (None, 10)                650       \n",
      "                                                                 \n",
      "=================================================================\n",
      "Total params: 12,958,130\n",
      "Trainable params: 12,957,346\n",
      "Non-trainable params: 784\n",
      "_________________________________________________________________\n"
     ]
    }
   ],
   "source": [
    "model = cnn()\n",
    "model.summary()"
   ]
  },
  {
   "cell_type": "code",
   "execution_count": 38,
   "id": "88640c76",
   "metadata": {},
   "outputs": [
    {
     "name": "stdout",
     "output_type": "stream",
     "text": [
      "Epoch 1/100\n",
      "22/22 [==============================] - 48s 2s/step - loss: 3.2602 - accuracy: 0.1380 - val_loss: 2.3061 - val_accuracy: 0.1333\n",
      "Epoch 2/100\n",
      "22/22 [==============================] - 49s 2s/step - loss: 2.7601 - accuracy: 0.1750 - val_loss: 2.3309 - val_accuracy: 0.1185\n",
      "Epoch 3/100\n",
      "22/22 [==============================] - 48s 2s/step - loss: 2.4487 - accuracy: 0.2491 - val_loss: 2.3559 - val_accuracy: 0.1185\n",
      "Epoch 4/100\n",
      "22/22 [==============================] - 50s 2s/step - loss: 2.2890 - accuracy: 0.2870 - val_loss: 2.3739 - val_accuracy: 0.1296\n",
      "Epoch 5/100\n",
      "22/22 [==============================] - 48s 2s/step - loss: 2.0835 - accuracy: 0.3315 - val_loss: 2.3800 - val_accuracy: 0.1630\n",
      "Epoch 6/100\n",
      "22/22 [==============================] - 48s 2s/step - loss: 1.8799 - accuracy: 0.3611 - val_loss: 2.3699 - val_accuracy: 0.1667\n",
      "Epoch 7/100\n",
      "22/22 [==============================] - 48s 2s/step - loss: 1.7968 - accuracy: 0.3972 - val_loss: 2.3547 - val_accuracy: 0.2259\n",
      "Epoch 8/100\n",
      "22/22 [==============================] - 49s 2s/step - loss: 1.6364 - accuracy: 0.4500 - val_loss: 2.3364 - val_accuracy: 0.2296\n",
      "Epoch 9/100\n",
      "22/22 [==============================] - 48s 2s/step - loss: 1.5440 - accuracy: 0.4713 - val_loss: 2.3000 - val_accuracy: 0.2556\n",
      "Epoch 10/100\n",
      "22/22 [==============================] - 47s 2s/step - loss: 1.4803 - accuracy: 0.5019 - val_loss: 2.2562 - val_accuracy: 0.2741\n",
      "Epoch 11/100\n",
      "22/22 [==============================] - 47s 2s/step - loss: 1.4254 - accuracy: 0.5176 - val_loss: 2.1989 - val_accuracy: 0.2815\n",
      "Epoch 12/100\n",
      "22/22 [==============================] - 47s 2s/step - loss: 1.3192 - accuracy: 0.5620 - val_loss: 2.1272 - val_accuracy: 0.3296\n",
      "Epoch 13/100\n",
      "22/22 [==============================] - 43s 2s/step - loss: 1.3037 - accuracy: 0.5611 - val_loss: 2.0398 - val_accuracy: 0.3667\n",
      "Epoch 14/100\n",
      "22/22 [==============================] - 47s 2s/step - loss: 1.1837 - accuracy: 0.6102 - val_loss: 1.9339 - val_accuracy: 0.4000\n",
      "Epoch 15/100\n",
      "22/22 [==============================] - 48s 2s/step - loss: 1.1608 - accuracy: 0.6037 - val_loss: 1.8020 - val_accuracy: 0.4741\n",
      "Epoch 16/100\n",
      "22/22 [==============================] - 38s 2s/step - loss: 1.1158 - accuracy: 0.6370 - val_loss: 1.6601 - val_accuracy: 0.5444\n",
      "Epoch 17/100\n",
      "22/22 [==============================] - 49s 2s/step - loss: 1.0706 - accuracy: 0.6481 - val_loss: 1.5104 - val_accuracy: 0.6074\n",
      "Epoch 18/100\n",
      "22/22 [==============================] - 46s 2s/step - loss: 1.0073 - accuracy: 0.6889 - val_loss: 1.3653 - val_accuracy: 0.6852\n",
      "Epoch 19/100\n",
      "22/22 [==============================] - 48s 2s/step - loss: 1.0155 - accuracy: 0.6741 - val_loss: 1.2254 - val_accuracy: 0.7481\n",
      "Epoch 20/100\n",
      "22/22 [==============================] - 39s 2s/step - loss: 0.9258 - accuracy: 0.7009 - val_loss: 1.1018 - val_accuracy: 0.7741\n",
      "Epoch 21/100\n",
      "22/22 [==============================] - 17s 792ms/step - loss: 0.9460 - accuracy: 0.6898 - val_loss: 0.9840 - val_accuracy: 0.8148\n",
      "Epoch 22/100\n",
      "22/22 [==============================] - 22s 997ms/step - loss: 0.9042 - accuracy: 0.7241 - val_loss: 0.8922 - val_accuracy: 0.8407\n",
      "Epoch 23/100\n",
      "22/22 [==============================] - 26s 1s/step - loss: 0.8617 - accuracy: 0.7287 - val_loss: 0.7957 - val_accuracy: 0.8593\n",
      "Epoch 24/100\n",
      "22/22 [==============================] - 24s 1s/step - loss: 0.8733 - accuracy: 0.7204 - val_loss: 0.7193 - val_accuracy: 0.8630\n",
      "Epoch 25/100\n",
      "22/22 [==============================] - 26s 1s/step - loss: 0.8522 - accuracy: 0.7278 - val_loss: 0.6502 - val_accuracy: 0.8704\n",
      "Epoch 26/100\n",
      "22/22 [==============================] - 27s 1s/step - loss: 0.7969 - accuracy: 0.7380 - val_loss: 0.5903 - val_accuracy: 0.8741\n",
      "Epoch 27/100\n",
      "22/22 [==============================] - 28s 1s/step - loss: 0.7375 - accuracy: 0.7843 - val_loss: 0.5451 - val_accuracy: 0.8704\n",
      "Epoch 28/100\n",
      "22/22 [==============================] - 27s 1s/step - loss: 0.7388 - accuracy: 0.7546 - val_loss: 0.4985 - val_accuracy: 0.8852\n",
      "Epoch 29/100\n",
      "22/22 [==============================] - 25s 1s/step - loss: 0.7271 - accuracy: 0.7750 - val_loss: 0.4621 - val_accuracy: 0.8889\n",
      "Epoch 30/100\n",
      "22/22 [==============================] - 26s 1s/step - loss: 0.7068 - accuracy: 0.7917 - val_loss: 0.4290 - val_accuracy: 0.9000\n",
      "Epoch 31/100\n",
      "22/22 [==============================] - 23s 1s/step - loss: 0.6922 - accuracy: 0.7981 - val_loss: 0.4097 - val_accuracy: 0.9037\n",
      "Epoch 32/100\n",
      "22/22 [==============================] - 25s 1s/step - loss: 0.6832 - accuracy: 0.7880 - val_loss: 0.3795 - val_accuracy: 0.9111\n",
      "Epoch 33/100\n",
      "22/22 [==============================] - 29s 1s/step - loss: 0.6490 - accuracy: 0.8102 - val_loss: 0.3559 - val_accuracy: 0.9222\n",
      "Epoch 34/100\n",
      "22/22 [==============================] - 26s 1s/step - loss: 0.6751 - accuracy: 0.8102 - val_loss: 0.3428 - val_accuracy: 0.9185\n",
      "Epoch 35/100\n",
      "22/22 [==============================] - 29s 1s/step - loss: 0.6679 - accuracy: 0.7991 - val_loss: 0.3283 - val_accuracy: 0.9222\n",
      "Epoch 36/100\n",
      "22/22 [==============================] - 28s 1s/step - loss: 0.6063 - accuracy: 0.8222 - val_loss: 0.3163 - val_accuracy: 0.9296\n",
      "Epoch 37/100\n",
      "22/22 [==============================] - 27s 1s/step - loss: 0.5696 - accuracy: 0.8407 - val_loss: 0.3073 - val_accuracy: 0.9259\n",
      "Epoch 38/100\n",
      "22/22 [==============================] - 29s 1s/step - loss: 0.5729 - accuracy: 0.8389 - val_loss: 0.2918 - val_accuracy: 0.9296\n",
      "Epoch 39/100\n",
      "22/22 [==============================] - 32s 1s/step - loss: 0.5763 - accuracy: 0.8398 - val_loss: 0.2811 - val_accuracy: 0.9370\n",
      "Epoch 40/100\n",
      "22/22 [==============================] - 28s 1s/step - loss: 0.5453 - accuracy: 0.8454 - val_loss: 0.2780 - val_accuracy: 0.9296\n",
      "Epoch 41/100\n",
      "22/22 [==============================] - 29s 1s/step - loss: 0.5310 - accuracy: 0.8583 - val_loss: 0.2719 - val_accuracy: 0.9370\n",
      "Epoch 42/100\n",
      "22/22 [==============================] - 27s 1s/step - loss: 0.5184 - accuracy: 0.8528 - val_loss: 0.2653 - val_accuracy: 0.9370\n",
      "Epoch 43/100\n",
      "22/22 [==============================] - 27s 1s/step - loss: 0.5144 - accuracy: 0.8593 - val_loss: 0.2631 - val_accuracy: 0.9370\n",
      "Epoch 44/100\n",
      "22/22 [==============================] - 24s 1s/step - loss: 0.5231 - accuracy: 0.8546 - val_loss: 0.2547 - val_accuracy: 0.9407\n",
      "Epoch 45/100\n",
      "22/22 [==============================] - 29s 1s/step - loss: 0.4953 - accuracy: 0.8713 - val_loss: 0.2484 - val_accuracy: 0.9407\n",
      "Epoch 46/100\n",
      "22/22 [==============================] - 25s 1s/step - loss: 0.5040 - accuracy: 0.8704 - val_loss: 0.2438 - val_accuracy: 0.9407\n",
      "Epoch 47/100\n",
      "22/22 [==============================] - 28s 1s/step - loss: 0.4851 - accuracy: 0.8593 - val_loss: 0.2395 - val_accuracy: 0.9407\n",
      "Epoch 48/100\n",
      "22/22 [==============================] - 24s 1s/step - loss: 0.4622 - accuracy: 0.8704 - val_loss: 0.2318 - val_accuracy: 0.9444\n",
      "Epoch 49/100\n",
      "22/22 [==============================] - 24s 1s/step - loss: 0.4411 - accuracy: 0.8806 - val_loss: 0.2273 - val_accuracy: 0.9481\n",
      "Epoch 50/100\n",
      "22/22 [==============================] - 29s 1s/step - loss: 0.4749 - accuracy: 0.8907 - val_loss: 0.2238 - val_accuracy: 0.9481\n",
      "Epoch 51/100\n",
      "22/22 [==============================] - 25s 1s/step - loss: 0.4306 - accuracy: 0.8935 - val_loss: 0.2203 - val_accuracy: 0.9556\n",
      "Epoch 52/100\n",
      "22/22 [==============================] - 25s 1s/step - loss: 0.4278 - accuracy: 0.8926 - val_loss: 0.2207 - val_accuracy: 0.9519\n",
      "Epoch 53/100\n",
      "22/22 [==============================] - 25s 1s/step - loss: 0.4373 - accuracy: 0.8870 - val_loss: 0.2147 - val_accuracy: 0.9519\n",
      "Epoch 54/100\n",
      "22/22 [==============================] - 26s 1s/step - loss: 0.4144 - accuracy: 0.9037 - val_loss: 0.2098 - val_accuracy: 0.9519\n",
      "Epoch 55/100\n",
      "22/22 [==============================] - 26s 1s/step - loss: 0.3980 - accuracy: 0.8954 - val_loss: 0.2057 - val_accuracy: 0.9519\n",
      "Epoch 56/100\n",
      "22/22 [==============================] - 27s 1s/step - loss: 0.3775 - accuracy: 0.9204 - val_loss: 0.2022 - val_accuracy: 0.9519\n",
      "Epoch 57/100\n",
      "22/22 [==============================] - 25s 1s/step - loss: 0.3991 - accuracy: 0.9074 - val_loss: 0.1991 - val_accuracy: 0.9630\n",
      "Epoch 58/100\n",
      "22/22 [==============================] - 24s 1s/step - loss: 0.3927 - accuracy: 0.9019 - val_loss: 0.2002 - val_accuracy: 0.9630\n"
     ]
    },
    {
     "name": "stdout",
     "output_type": "stream",
     "text": [
      "Epoch 59/100\n",
      "22/22 [==============================] - 27s 1s/step - loss: 0.3829 - accuracy: 0.9213 - val_loss: 0.1970 - val_accuracy: 0.9667\n",
      "Epoch 60/100\n",
      "22/22 [==============================] - 27s 1s/step - loss: 0.3923 - accuracy: 0.9148 - val_loss: 0.1923 - val_accuracy: 0.9704\n",
      "Epoch 61/100\n",
      "22/22 [==============================] - 26s 1s/step - loss: 0.3640 - accuracy: 0.9120 - val_loss: 0.1879 - val_accuracy: 0.9667\n",
      "Epoch 62/100\n",
      "22/22 [==============================] - 28s 1s/step - loss: 0.3721 - accuracy: 0.9148 - val_loss: 0.1895 - val_accuracy: 0.9667\n",
      "Epoch 63/100\n",
      "22/22 [==============================] - 25s 1s/step - loss: 0.3737 - accuracy: 0.9102 - val_loss: 0.1846 - val_accuracy: 0.9667\n",
      "Epoch 64/100\n",
      "22/22 [==============================] - 26s 1s/step - loss: 0.3893 - accuracy: 0.9028 - val_loss: 0.1791 - val_accuracy: 0.9593\n",
      "Epoch 65/100\n",
      "22/22 [==============================] - 26s 1s/step - loss: 0.3503 - accuracy: 0.9185 - val_loss: 0.1783 - val_accuracy: 0.9630\n",
      "Epoch 66/100\n",
      "22/22 [==============================] - 27s 1s/step - loss: 0.3488 - accuracy: 0.9120 - val_loss: 0.1775 - val_accuracy: 0.9704\n",
      "Epoch 67/100\n",
      "22/22 [==============================] - 23s 1s/step - loss: 0.3346 - accuracy: 0.9259 - val_loss: 0.1748 - val_accuracy: 0.9630\n",
      "Epoch 68/100\n",
      "22/22 [==============================] - 25s 1s/step - loss: 0.3292 - accuracy: 0.9241 - val_loss: 0.1706 - val_accuracy: 0.9667\n",
      "Epoch 69/100\n",
      "22/22 [==============================] - 28s 1s/step - loss: 0.3165 - accuracy: 0.9204 - val_loss: 0.1699 - val_accuracy: 0.9667\n",
      "Epoch 70/100\n",
      "22/22 [==============================] - 26s 1s/step - loss: 0.3315 - accuracy: 0.9269 - val_loss: 0.1691 - val_accuracy: 0.9667\n",
      "Epoch 71/100\n",
      "22/22 [==============================] - 27s 1s/step - loss: 0.3297 - accuracy: 0.9259 - val_loss: 0.1682 - val_accuracy: 0.9704\n",
      "Epoch 72/100\n",
      "22/22 [==============================] - 26s 1s/step - loss: 0.3368 - accuracy: 0.9204 - val_loss: 0.1670 - val_accuracy: 0.9630\n",
      "Epoch 73/100\n",
      "22/22 [==============================] - 26s 1s/step - loss: 0.3322 - accuracy: 0.9315 - val_loss: 0.1639 - val_accuracy: 0.9704\n",
      "Epoch 74/100\n",
      "22/22 [==============================] - 25s 1s/step - loss: 0.2957 - accuracy: 0.9315 - val_loss: 0.1627 - val_accuracy: 0.9704\n",
      "Epoch 75/100\n",
      "22/22 [==============================] - 25s 1s/step - loss: 0.3093 - accuracy: 0.9389 - val_loss: 0.1627 - val_accuracy: 0.9704\n",
      "Epoch 76/100\n",
      "22/22 [==============================] - 25s 1s/step - loss: 0.3210 - accuracy: 0.9361 - val_loss: 0.1598 - val_accuracy: 0.9741\n",
      "Epoch 77/100\n",
      "22/22 [==============================] - 25s 1s/step - loss: 0.2994 - accuracy: 0.9454 - val_loss: 0.1611 - val_accuracy: 0.9704\n",
      "Epoch 78/100\n",
      "22/22 [==============================] - 27s 1s/step - loss: 0.2984 - accuracy: 0.9370 - val_loss: 0.1616 - val_accuracy: 0.9667\n",
      "Epoch 79/100\n",
      "22/22 [==============================] - 26s 1s/step - loss: 0.2905 - accuracy: 0.9370 - val_loss: 0.1593 - val_accuracy: 0.9667\n",
      "Epoch 80/100\n",
      "22/22 [==============================] - 29s 1s/step - loss: 0.2975 - accuracy: 0.9398 - val_loss: 0.1569 - val_accuracy: 0.9704\n",
      "Epoch 81/100\n",
      "22/22 [==============================] - 26s 1s/step - loss: 0.3016 - accuracy: 0.9361 - val_loss: 0.1551 - val_accuracy: 0.9741\n",
      "Epoch 82/100\n",
      "22/22 [==============================] - 28s 1s/step - loss: 0.2744 - accuracy: 0.9472 - val_loss: 0.1545 - val_accuracy: 0.9741\n",
      "Epoch 83/100\n",
      "22/22 [==============================] - 27s 1s/step - loss: 0.2891 - accuracy: 0.9398 - val_loss: 0.1543 - val_accuracy: 0.9704\n",
      "Epoch 84/100\n",
      "22/22 [==============================] - 29s 1s/step - loss: 0.2860 - accuracy: 0.9454 - val_loss: 0.1539 - val_accuracy: 0.9741\n",
      "Epoch 85/100\n",
      "22/22 [==============================] - 25s 1s/step - loss: 0.2673 - accuracy: 0.9472 - val_loss: 0.1500 - val_accuracy: 0.9741\n",
      "Epoch 86/100\n",
      "22/22 [==============================] - 28s 1s/step - loss: 0.2782 - accuracy: 0.9472 - val_loss: 0.1477 - val_accuracy: 0.9741\n",
      "Epoch 87/100\n",
      "22/22 [==============================] - 28s 1s/step - loss: 0.2599 - accuracy: 0.9500 - val_loss: 0.1468 - val_accuracy: 0.9741\n",
      "Epoch 88/100\n",
      "22/22 [==============================] - 27s 1s/step - loss: 0.2517 - accuracy: 0.9537 - val_loss: 0.1457 - val_accuracy: 0.9741\n",
      "Epoch 89/100\n",
      "22/22 [==============================] - 28s 1s/step - loss: 0.2561 - accuracy: 0.9556 - val_loss: 0.1458 - val_accuracy: 0.9741\n",
      "Epoch 90/100\n",
      "22/22 [==============================] - 29s 1s/step - loss: 0.2671 - accuracy: 0.9500 - val_loss: 0.1445 - val_accuracy: 0.9741\n",
      "Epoch 91/100\n",
      "22/22 [==============================] - 28s 1s/step - loss: 0.2510 - accuracy: 0.9620 - val_loss: 0.1426 - val_accuracy: 0.9741\n",
      "Epoch 92/100\n",
      "22/22 [==============================] - 29s 1s/step - loss: 0.2536 - accuracy: 0.9565 - val_loss: 0.1417 - val_accuracy: 0.9741\n",
      "Epoch 93/100\n",
      "22/22 [==============================] - 26s 1s/step - loss: 0.2719 - accuracy: 0.9472 - val_loss: 0.1410 - val_accuracy: 0.9741\n",
      "Epoch 94/100\n",
      "22/22 [==============================] - 25s 1s/step - loss: 0.2438 - accuracy: 0.9583 - val_loss: 0.1407 - val_accuracy: 0.9778\n",
      "Epoch 95/100\n",
      "22/22 [==============================] - 28s 1s/step - loss: 0.2414 - accuracy: 0.9528 - val_loss: 0.1398 - val_accuracy: 0.9778\n",
      "Epoch 96/100\n",
      "22/22 [==============================] - 28s 1s/step - loss: 0.2576 - accuracy: 0.9509 - val_loss: 0.1408 - val_accuracy: 0.9778\n",
      "Epoch 97/100\n",
      "22/22 [==============================] - 27s 1s/step - loss: 0.2418 - accuracy: 0.9556 - val_loss: 0.1407 - val_accuracy: 0.9778\n",
      "Epoch 98/100\n",
      "22/22 [==============================] - 27s 1s/step - loss: 0.2641 - accuracy: 0.9380 - val_loss: 0.1369 - val_accuracy: 0.9741\n",
      "Epoch 99/100\n",
      "22/22 [==============================] - 27s 1s/step - loss: 0.2443 - accuracy: 0.9500 - val_loss: 0.1370 - val_accuracy: 0.9741\n",
      "Epoch 100/100\n",
      "22/22 [==============================] - 27s 1s/step - loss: 0.2469 - accuracy: 0.9565 - val_loss: 0.1356 - val_accuracy: 0.9778\n"
     ]
    }
   ],
   "source": [
    "history = model.fit(X_train, y_train, batch_size = 50, validation_split=0.2, epochs = 100, verbose = 1)"
   ]
  },
  {
   "cell_type": "code",
   "execution_count": 39,
   "id": "8e59415a",
   "metadata": {},
   "outputs": [
    {
     "name": "stderr",
     "output_type": "stream",
     "text": [
      "WARNING:absl:Found untraced functions such as _jit_compiled_convolution_op, _jit_compiled_convolution_op, _jit_compiled_convolution_op, _update_step_xla while saving (showing 4 of 4). These functions will not be directly callable after loading.\n"
     ]
    },
    {
     "name": "stdout",
     "output_type": "stream",
     "text": [
      "INFO:tensorflow:Assets written to: model2\\assets\n"
     ]
    },
    {
     "name": "stderr",
     "output_type": "stream",
     "text": [
      "INFO:tensorflow:Assets written to: model2\\assets\n"
     ]
    }
   ],
   "source": [
    "model.save(\"model2\")"
   ]
  },
  {
   "cell_type": "code",
   "execution_count": 18,
   "id": "1e84991b",
   "metadata": {},
   "outputs": [],
   "source": [
    "model = keras.models.load_model(\"model2\")"
   ]
  },
  {
   "cell_type": "code",
   "execution_count": 40,
   "id": "dcb72b19",
   "metadata": {},
   "outputs": [
    {
     "name": "stdout",
     "output_type": "stream",
     "text": [
      "5/5 [==============================] - 1s 204ms/step - loss: 0.1154 - accuracy: 0.9867\n"
     ]
    }
   ],
   "source": [
    "results = model.evaluate(X_test, y_test)"
   ]
  },
  {
   "cell_type": "code",
   "execution_count": 41,
   "id": "b54440da",
   "metadata": {},
   "outputs": [
    {
     "data": {
      "image/png": "[encoded data removed]",
      "text/plain": [
       "<Figure size 640x480 with 1 Axes>"
      ]
     },
     "metadata": {},
     "output_type": "display_data"
    },
    {
     "data": {
      "image/png": "[encoded data removed]",
      "text/plain": [
       "<Figure size 640x480 with 1 Axes>"
      ]
     },
     "metadata": {},
     "output_type": "display_data"
    }
   ],
   "source": [
    "import seaborn as sns\n",
    "import matplotlib.pyplot as plt\n",
    "sns.set_style(\"darkgrid\")\n",
    "#get the details form the history object\n",
    "acc = history.history['accuracy']\n",
    "val_acc = history.history['val_accuracy']\n",
    "loss = history.history['loss']\n",
    "val_loss = history.history['val_loss']\n",
    "\n",
    "epochs = range(1, len(acc) + 1)\n",
    "\n",
    "#Train and validation accuracy\n",
    "plt.plot(epochs, acc, 'b', label='Training accurarcy')\n",
    "plt.plot(epochs, val_acc, 'r', label='Validation accurarcy')\n",
    "plt.xlabel('Epoch #')\n",
    "plt.ylabel('accuracy')\n",
    "plt.title('Training and Validation accurarcy')\n",
    "plt.legend()\n",
    "#plt.savefig('ensemble_seresnext50_eff-b3_graph_test_acc.png')\n",
    "\n",
    "plt.figure()\n",
    "#Train and validation loss\n",
    "plt.plot(epochs, loss, 'b', label='Training loss')\n",
    "plt.plot(epochs, val_loss, 'r', label='Validation loss')\n",
    "plt.xlabel('Epoch #')\n",
    "plt.ylabel('loss')\n",
    "plt.title('Training and Validation loss')\n",
    "plt.legend()\n",
    "#plt.savefig('ensemble_seresnext50_eff-b3_graph_test_loss.png')\n",
    "\n",
    "plt.show()"
   ]
  },
  {
   "cell_type": "code",
   "execution_count": 42,
   "id": "3c202dee",
   "metadata": {},
   "outputs": [
    {
     "name": "stdout",
     "output_type": "stream",
     "text": [
      "38/38 [==============================] - 2s 37ms/step\n"
     ]
    }
   ],
   "source": [
    "Y_pred1 = model.predict(X_test, len(y_test)//32)\n",
    "y_pred1 = np.argmax(Y_pred1, axis=1)\n",
    "rounded_labels = np.argmax(y_test, axis=1)"
   ]
  },
  {
   "cell_type": "code",
   "execution_count": 43,
   "id": "95844607",
   "metadata": {},
   "outputs": [
    {
     "name": "stdout",
     "output_type": "stream",
     "text": [
      "Confusion Matrix\n",
      "[[15  0  0  0  0  0  0  0  0  0]\n",
      " [ 0 15  0  0  0  0  0  0  0  0]\n",
      " [ 0  0 15  0  0  0  0  0  0  0]\n",
      " [ 0  0  0 15  0  0  0  0  0  0]\n",
      " [ 0  0  0  0 15  0  0  0  0  0]\n",
      " [ 0  0  0  0  0 15  0  0  0  0]\n",
      " [ 0  0  0  0  0  0 15  0  0  0]\n",
      " [ 0  0  0  0  0  0  0 15  0  0]\n",
      " [ 0  0  0  1  0  0  0  1 13  0]\n",
      " [ 0  0  0  0  0  0  0  0  0 15]]\n"
     ]
    }
   ],
   "source": [
    "print('Confusion Matrix')\n",
    "cm = confusion_matrix(rounded_labels, y_pred1)\n",
    "#cm = confusion_matrix(test_RGB_y, y_pred1)\n",
    "print(cm)"
   ]
  },
  {
   "cell_type": "code",
   "execution_count": 51,
   "id": "57b4cdc0",
   "metadata": {
    "scrolled": false
   },
   "outputs": [
    {
     "data": {
      "image/png": "[encoded data removed]",
      "text/plain": [
       "<Figure size 500x500 with 1 Axes>"
      ]
     },
     "metadata": {},
     "output_type": "display_data"
    }
   ],
   "source": [
    "array_downsize_upsize_random = cm\n",
    "\n",
    "class_labels=[\"0\", \"1\",\"2\",\"3\",\"4\",\"5\",\"6\",\"7\",\"8\",\"9\"]\n",
    "\n",
    "confusion_matrix = pd.DataFrame(array_downsize_upsize_random, index=class_labels, columns=class_labels)\n",
    "plt.figure(figsize=(5,5))\n",
    "sns.set(font_scale=1.4) # for label size\n",
    "g = sns.heatmap(confusion_matrix, annot=True, annot_kws={\"size\": 10}, cmap=plt.cm.Blues, fmt=\"g\", linewidths=2, linecolor='grey',cbar=False, yticklabels=class_labels,xticklabels=class_labels) # font size\n",
    "\n",
    "g.set_xticklabels(g.get_xticklabels(), rotation = 45)#, fontsize = 1)\n",
    "# accuracy = np.trace(array_downsize_upsize_random) / np.sum(array_downsize_upsize_random).astype('float')\n",
    "# misclass = 1 - accuracy\n",
    "plt.tight_layout()\n",
    "plt.ylabel('True Class')\n",
    "plt.xlabel('Predicted Class')#\\naccuracy={:0.4f}; misclass={:0.4f}'.format(accuracy, misclass))\n",
    "#plt.savefig('Downsize+Upsize_Random.png')#, dpi = 1200)\n",
    "plt.show()"
   ]
  },
  {
   "cell_type": "code",
   "execution_count": 52,
   "id": "b76d3663",
   "metadata": {},
   "outputs": [
    {
     "name": "stdout",
     "output_type": "stream",
     "text": [
      "sravya\n"
     ]
    }
   ],
   "source": [
    "print(\"sravya\")"
   ]
  },
  {
   "cell_type": "code",
   "execution_count": 56,
   "id": "26f5e915",
   "metadata": {
    "scrolled": false
   },
   "outputs": [
    {
     "name": "stdout",
     "output_type": "stream",
     "text": [
      "True number 7\n",
      "1/1 [==============================] - 0s 25ms/step\n",
      "Predicted number: 7\n"
     ]
    }
   ],
   "source": [
    "index = 11\n",
    "print('True number',np.argmax(y_test[index]))\n",
    "print('Predicted number:' ,np.argmax(model.predict(X_test[index].reshape(1,62,62,3))))"
   ]
  },
  {
   "cell_type": "code",
   "execution_count": 62,
   "id": "d2fdb5f9",
   "metadata": {},
   "outputs": [
    {
     "name": "stdout",
     "output_type": "stream",
     "text": [
      "True number 4\n",
      "1/1 [==============================] - 0s 55ms/step\n",
      "Predicted number: 4\n"
     ]
    }
   ],
   "source": [
    "index = 34\n",
    "print('True number',np.argmax(y_test[index]))\n",
    "print('Predicted number:' ,np.argmax(model.predict(X_test[index].reshape(1,62,62,3))))"
   ]
  },
  {
   "cell_type": "code",
   "execution_count": 98,
   "id": "dd40f468",
   "metadata": {},
   "outputs": [
    {
     "data": {
      "text/plain": [
       "(62, 62, 3)"
      ]
     },
     "execution_count": 98,
     "metadata": {},
     "output_type": "execute_result"
    }
   ],
   "source": [
    "X_test[11].shape"
   ]
  },
  {
   "cell_type": "code",
   "execution_count": 93,
   "id": "5a5c1d3d",
   "metadata": {},
   "outputs": [],
   "source": [
    "#import speech_recognition as sr"
   ]
  },
  {
   "cell_type": "code",
   "execution_count": 94,
   "id": "eed06779",
   "metadata": {},
   "outputs": [],
   "source": [
    "#r = sr.Recognizer()"
   ]
  },
  {
   "cell_type": "code",
   "execution_count": 97,
   "id": "5e3edc86",
   "metadata": {},
   "outputs": [],
   "source": [
    "#with sr.Microphone() as source:\n",
    "    # read the audio data from the default microphone\n",
    "#    print(\"say something\")\n",
    "#    audio_data = r.record(source, duration=5)\n",
    "#    print(\"Recognizing...\")\n",
    "    # convert speech to text\n",
    "#    try:\n",
    "#        text = r.recognize_google(audio_data)\n",
    "#        print(\"you said : \",text)\n",
    "#    except:\n",
    "#        print(\"Sorry could not recognize what you said\")"
   ]
  },
  {
   "cell_type": "code",
   "execution_count": 98,
   "id": "3de472af",
   "metadata": {},
   "outputs": [],
   "source": [
    "#print(type(audio_data))"
   ]
  },
  {
   "cell_type": "code",
   "execution_count": 96,
   "id": "03cfe605",
   "metadata": {},
   "outputs": [],
   "source": [
    "#with open(\"microphone-results1.wav\", \"wb\") as f:\n",
    "#    f.write(audio_data.get_wav_data())\n",
    "#recordings/6_jackson_22.wav"
   ]
  },
  {
   "cell_type": "code",
   "execution_count": 19,
   "id": "b484bb62",
   "metadata": {},
   "outputs": [],
   "source": [
    "x, sr = librosa.load(\"recordings/6_jackson_22.wav\")\n"
   ]
  },
  {
   "cell_type": "code",
   "execution_count": 20,
   "id": "36974b05",
   "metadata": {},
   "outputs": [
    {
     "data": {
      "text/html": [
       "\n",
       "                <audio  controls=\"controls\" >\n",
       "                    <source src=\"data:audio/wav;base64,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\" type=\"audio/wav\" />\n",
       "                    Your browser does not support the audio element.\n",
       "                </audio>\n",
       "              "
      ],
      "text/plain": [
       "<IPython.lib.display.Audio object>"
      ]
     },
     "execution_count": 20,
     "metadata": {},
     "output_type": "execute_result"
    },
    {
     "data": {
      "image/png": "[encoded data removed]",
      "text/plain": [
       "<Figure size 640x480 with 1 Axes>"
      ]
     },
     "metadata": {},
     "output_type": "display_data"
    }
   ],
   "source": [
    "librosa.display.waveshow(x,sr=sr)\n",
    "ipd.Audio(\"recordings/6_jackson_22.wav\")"
   ]
  },
  {
   "cell_type": "code",
   "execution_count": 116,
   "id": "ef89711a",
   "metadata": {},
   "outputs": [],
   "source": [
    "import matplotlib.pyplot as plt"
   ]
  },
  {
   "cell_type": "code",
   "execution_count": 117,
   "id": "815513d3",
   "metadata": {},
   "outputs": [
    {
     "name": "stdout",
     "output_type": "stream",
     "text": [
      "(128, 31)\n"
     ]
    }
   ],
   "source": [
    "S = librosa.feature.melspectrogram(y=x, sr=sr)\n",
    "print(S.shape)\n",
    "fig = plt.figure(figsize=[1,1])\n",
    "ax = fig.add_subplot(111)\n",
    "ax.axes.get_xaxis().set_visible(False)\n",
    "ax.axes.get_yaxis().set_visible(False)\n",
    "ax.set_frame_on(False)\n",
    "librosa.display.specshow(librosa.power_to_db(S, ref=np.max),ax=ax, x_axis='time', y_axis='mel')\n",
    "file=\"6_1_img\"+\".jpg\"\n",
    "plt.savefig(file, bbox_inches='tight',pad_inches=0)\n",
    "plt.close()"
   ]
  },
  {
   "cell_type": "code",
   "execution_count": 118,
   "id": "bfc14bc5",
   "metadata": {},
   "outputs": [
    {
     "name": "stdout",
     "output_type": "stream",
     "text": [
      "(77, 77)\n"
     ]
    }
   ],
   "source": [
    "from PIL import Image\n",
    "\n",
    "#read the image\n",
    "im = Image.open(\"6_1_img.jpg\")\n",
    "print(im.size)"
   ]
  },
  {
   "cell_type": "code",
   "execution_count": 119,
   "id": "10fc1d1f",
   "metadata": {},
   "outputs": [],
   "source": [
    "new_img=im.resize((62, 62))"
   ]
  },
  {
   "cell_type": "code",
   "execution_count": 120,
   "id": "541dbe9e",
   "metadata": {},
   "outputs": [],
   "source": [
    "k=[]\n",
    "k.append(img_to_array(new_img))"
   ]
  },
  {
   "cell_type": "code",
   "execution_count": 121,
   "id": "af417e77",
   "metadata": {},
   "outputs": [
    {
     "data": {
      "text/plain": [
       "(62, 62, 3)"
      ]
     },
     "execution_count": 121,
     "metadata": {},
     "output_type": "execute_result"
    }
   ],
   "source": [
    "k[0].shape"
   ]
  },
  {
   "cell_type": "code",
   "execution_count": 122,
   "id": "03d12a2c",
   "metadata": {},
   "outputs": [
    {
     "name": "stdout",
     "output_type": "stream",
     "text": [
      "1/1 [==============================] - 0s 31ms/step\n",
      "Predicted number: 6\n"
     ]
    }
   ],
   "source": [
    "#print('True number',np.argmax(y_test[index]))\n",
    "print('Predicted number:' ,np.argmax(model.predict(k[0].reshape(1,62,62,3))))"
   ]
  },
  {
   "cell_type": "code",
   "execution_count": 123,
   "id": "3d7e8ad2",
   "metadata": {},
   "outputs": [],
   "source": [
    "def word_form(numeric):\n",
    "    if numeric == 0:\n",
    "        return 'zero'\n",
    "    elif numeric == 1:\n",
    "        return 'one'\n",
    "    elif numeric == 2:\n",
    "        return 'two'\n",
    "    elif numeric == 3:\n",
    "        return 'three'\n",
    "    elif numeric == 4:\n",
    "        return 'four'\n",
    "    elif numeric == 5:\n",
    "        return 'five'\n",
    "    elif numeric == 6:\n",
    "        return 'six'\n",
    "    elif numeric == 7:\n",
    "        return 'seven'\n",
    "    elif numeric == 8:\n",
    "        return 'eight'\n",
    "    elif numeric == 9:\n",
    "        return 'nine'"
   ]
  },
  {
   "cell_type": "code",
   "execution_count": 124,
   "id": "d14af5af",
   "metadata": {},
   "outputs": [
    {
     "name": "stdout",
     "output_type": "stream",
     "text": [
      "1/1 [==============================] - 0s 26ms/step\n",
      "six\n"
     ]
    }
   ],
   "source": [
    "print(word_form(np.argmax(model.predict(k[0].reshape(1,62,62,3)))))"
   ]
  }
 ],
 "metadata": {
  "kernelspec": {
   "display_name": "Python 3 (ipykernel)",
   "language": "python",
   "name": "python3"
  },
  "language_info": {
   "codemirror_mode": {
    "name": "ipython",
    "version": 3
   },
   "file_extension": ".py",
   "mimetype": "text/x-python",
   "name": "python",
   "nbconvert_exporter": "python",
   "pygments_lexer": "ipython3",
   "version": "3.9.13"
  }
 },
 "nbformat": 4,
 "nbformat_minor": 5
}
